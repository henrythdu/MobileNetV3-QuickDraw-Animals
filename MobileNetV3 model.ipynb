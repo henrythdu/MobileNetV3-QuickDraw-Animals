{
 "cells": [
  {
   "cell_type": "markdown",
   "metadata": {},
   "source": [
    "# Download Data"
   ]
  },
  {
   "cell_type": "code",
   "execution_count": 4,
   "metadata": {},
   "outputs": [],
   "source": [
    "from utils.util import load_class_names,convert_class_names_to_idx\n",
    "import torch\n",
    "device = \"cuda\" if torch.cuda.is_available() else \"cpu\"\n",
    "# Load class names\n",
    "class_names_loaded = load_class_names(\"data/class_names_animals.txt\") \n",
    "class_name_to_idx = convert_class_names_to_idx(class_names_loaded)"
   ]
  },
  {
   "cell_type": "code",
   "execution_count": 5,
   "metadata": {},
   "outputs": [],
   "source": [
    "from pathlib import Path\n",
    "data_dir = Path(\"data\")\n",
    "if data_dir.exists():\n",
    "    pass\n",
    "else:\n",
    "    # If the file doesn't exist, create it\n",
    "    data_dir.mkdir(parents=True,\n",
    "                   exist_ok=True)"
   ]
  },
  {
   "cell_type": "code",
   "execution_count": 6,
   "metadata": {},
   "outputs": [],
   "source": [
    "from utils.util import download_data\n",
    "for animal in class_names_loaded:\n",
    "    download_path = data_dir / str(animal + \".npy\")\n",
    "    if download_path.exists():\n",
    "        pass\n",
    "    else:\n",
    "        download_data(animal)"
   ]
  },
  {
   "cell_type": "markdown",
   "metadata": {},
   "source": [
    "# Create the model"
   ]
  },
  {
   "cell_type": "code",
   "execution_count": 7,
   "metadata": {},
   "outputs": [],
   "source": [
    "from utils.model import create_mobilenetv3_model\n",
    "mobileNetV3, mobileNetV3_transform = create_mobilenetv3_model()"
   ]
  },
  {
   "cell_type": "code",
   "execution_count": 8,
   "metadata": {},
   "outputs": [
    {
     "data": {
      "text/plain": [
       "============================================================================================================================================\n",
       "Layer (type (var_name))                                      Input Shape          Output Shape         Param #              Trainable\n",
       "============================================================================================================================================\n",
       "MobileNetV3 (MobileNetV3)                                    [32, 3, 224, 224]    [32, 42]             --                   Partial\n",
       "├─Sequential (features)                                      [32, 3, 224, 224]    [32, 960, 7, 7]      --                   False\n",
       "│    └─Conv2dNormActivation (0)                              [32, 3, 224, 224]    [32, 16, 112, 112]   --                   False\n",
       "│    │    └─Conv2d (0)                                       [32, 3, 224, 224]    [32, 16, 112, 112]   (432)                False\n",
       "│    │    └─BatchNorm2d (1)                                  [32, 16, 112, 112]   [32, 16, 112, 112]   (32)                 False\n",
       "│    │    └─Hardswish (2)                                    [32, 16, 112, 112]   [32, 16, 112, 112]   --                   --\n",
       "│    └─InvertedResidual (1)                                  [32, 16, 112, 112]   [32, 16, 112, 112]   --                   False\n",
       "│    │    └─Sequential (block)                               [32, 16, 112, 112]   [32, 16, 112, 112]   (464)                False\n",
       "│    └─InvertedResidual (2)                                  [32, 16, 112, 112]   [32, 24, 56, 56]     --                   False\n",
       "│    │    └─Sequential (block)                               [32, 16, 112, 112]   [32, 24, 56, 56]     (3,440)              False\n",
       "│    └─InvertedResidual (3)                                  [32, 24, 56, 56]     [32, 24, 56, 56]     --                   False\n",
       "│    │    └─Sequential (block)                               [32, 24, 56, 56]     [32, 24, 56, 56]     (4,440)              False\n",
       "│    └─InvertedResidual (4)                                  [32, 24, 56, 56]     [32, 40, 28, 28]     --                   False\n",
       "│    │    └─Sequential (block)                               [32, 24, 56, 56]     [32, 40, 28, 28]     (10,328)             False\n",
       "│    └─InvertedResidual (5)                                  [32, 40, 28, 28]     [32, 40, 28, 28]     --                   False\n",
       "│    │    └─Sequential (block)                               [32, 40, 28, 28]     [32, 40, 28, 28]     (20,992)             False\n",
       "│    └─InvertedResidual (6)                                  [32, 40, 28, 28]     [32, 40, 28, 28]     --                   False\n",
       "│    │    └─Sequential (block)                               [32, 40, 28, 28]     [32, 40, 28, 28]     (20,992)             False\n",
       "│    └─InvertedResidual (7)                                  [32, 40, 28, 28]     [32, 80, 14, 14]     --                   False\n",
       "│    │    └─Sequential (block)                               [32, 40, 28, 28]     [32, 80, 14, 14]     (32,080)             False\n",
       "│    └─InvertedResidual (8)                                  [32, 80, 14, 14]     [32, 80, 14, 14]     --                   False\n",
       "│    │    └─Sequential (block)                               [32, 80, 14, 14]     [32, 80, 14, 14]     (34,760)             False\n",
       "│    └─InvertedResidual (9)                                  [32, 80, 14, 14]     [32, 80, 14, 14]     --                   False\n",
       "│    │    └─Sequential (block)                               [32, 80, 14, 14]     [32, 80, 14, 14]     (31,992)             False\n",
       "│    └─InvertedResidual (10)                                 [32, 80, 14, 14]     [32, 80, 14, 14]     --                   False\n",
       "│    │    └─Sequential (block)                               [32, 80, 14, 14]     [32, 80, 14, 14]     (31,992)             False\n",
       "│    └─InvertedResidual (11)                                 [32, 80, 14, 14]     [32, 112, 14, 14]    --                   False\n",
       "│    │    └─Sequential (block)                               [32, 80, 14, 14]     [32, 112, 14, 14]    (214,424)            False\n",
       "│    └─InvertedResidual (12)                                 [32, 112, 14, 14]    [32, 112, 14, 14]    --                   False\n",
       "│    │    └─Sequential (block)                               [32, 112, 14, 14]    [32, 112, 14, 14]    (386,120)            False\n",
       "│    └─InvertedResidual (13)                                 [32, 112, 14, 14]    [32, 160, 7, 7]      --                   False\n",
       "│    │    └─Sequential (block)                               [32, 112, 14, 14]    [32, 160, 7, 7]      (429,224)            False\n",
       "│    └─InvertedResidual (14)                                 [32, 160, 7, 7]      [32, 160, 7, 7]      --                   False\n",
       "│    │    └─Sequential (block)                               [32, 160, 7, 7]      [32, 160, 7, 7]      (797,360)            False\n",
       "│    └─InvertedResidual (15)                                 [32, 160, 7, 7]      [32, 160, 7, 7]      --                   False\n",
       "│    │    └─Sequential (block)                               [32, 160, 7, 7]      [32, 160, 7, 7]      (797,360)            False\n",
       "│    └─Conv2dNormActivation (16)                             [32, 160, 7, 7]      [32, 960, 7, 7]      --                   False\n",
       "│    │    └─Conv2d (0)                                       [32, 160, 7, 7]      [32, 960, 7, 7]      (153,600)            False\n",
       "│    │    └─BatchNorm2d (1)                                  [32, 960, 7, 7]      [32, 960, 7, 7]      (1,920)              False\n",
       "│    │    └─Hardswish (2)                                    [32, 960, 7, 7]      [32, 960, 7, 7]      --                   --\n",
       "├─AdaptiveAvgPool2d (avgpool)                                [32, 960, 7, 7]      [32, 960, 1, 1]      --                   --\n",
       "├─Sequential (classifier)                                    [32, 960]            [32, 42]             --                   True\n",
       "│    └─Linear (0)                                            [32, 960]            [32, 1280]           1,230,080            True\n",
       "│    └─Hardswish (1)                                         [32, 1280]           [32, 1280]           --                   --\n",
       "│    └─Dropout (2)                                           [32, 1280]           [32, 1280]           --                   --\n",
       "│    └─Linear (3)                                            [32, 1280]           [32, 42]             53,802               True\n",
       "============================================================================================================================================\n",
       "Total params: 4,255,834\n",
       "Trainable params: 1,283,882\n",
       "Non-trainable params: 2,971,952\n",
       "Total mult-adds (Units.GIGABYTES): 6.89\n",
       "============================================================================================================================================\n",
       "Input size (MB): 19.27\n",
       "Forward/backward pass size (MB): 2254.34\n",
       "Params size (MB): 17.02\n",
       "Estimated Total Size (MB): 2290.63\n",
       "============================================================================================================================================"
      ]
     },
     "execution_count": 8,
     "metadata": {},
     "output_type": "execute_result"
    }
   ],
   "source": [
    "from torchinfo import summary\n",
    "\n",
    "summary(mobileNetV3,\n",
    "        input_size=(32, 3, 224, 224),\n",
    "        col_names=[\"input_size\", \"output_size\", \"num_params\", \"trainable\"],\n",
    "        col_width=20,\n",
    "        row_settings=[\"var_names\"])"
   ]
  },
  {
   "cell_type": "markdown",
   "metadata": {},
   "source": [
    "# Create dataloaders"
   ]
  },
  {
   "cell_type": "code",
   "execution_count": 9,
   "metadata": {},
   "outputs": [],
   "source": [
    "from torchvision import transforms\n",
    "from utils.data_setup import get_train_test_per_animal\n",
    "\n",
    "training_transforms = transforms.Compose([transforms.TrivialAugmentWide(),mobileNetV3_transform])\n",
    "\n",
    "train_data, test_data = [],[]\n",
    "for animal in class_names_loaded:\n",
    "    train_animal, test_animal = get_train_test_per_animal(animal,class_name_to_idx)\n",
    "    train_data.extend(train_animal)\n",
    "    test_data.extend(test_animal)"
   ]
  },
  {
   "cell_type": "code",
   "execution_count": 10,
   "metadata": {},
   "outputs": [],
   "source": [
    "from utils.data_setup import create_dataloaders\n",
    "BATCH_SIZE = 32\n",
    "train_dataloader, test_dataloader = create_dataloaders(\n",
    "    train_data = train_data,\n",
    "    test_data = test_data,\n",
    "    train_transforms = training_transforms,\n",
    "    test_transforms = mobileNetV3_transform,\n",
    "    batch_size = BATCH_SIZE,\n",
    ")"
   ]
  },
  {
   "cell_type": "markdown",
   "metadata": {},
   "source": [
    "# Training the model"
   ]
  },
  {
   "cell_type": "code",
   "execution_count": 11,
   "metadata": {},
   "outputs": [],
   "source": [
    "import torch\n",
    "from utils import engine\n",
    "\n",
    "loss_fn = torch.nn.CrossEntropyLoss(label_smoothing = 0.1)\n",
    "optimizer = torch.optim.Adam(params = mobileNetV3.parameters(), lr=5e-4, weight_decay=1e-5)\n",
    "scheduler = torch.optim.lr_scheduler.ReduceLROnPlateau(optimizer,\"min\",patience=5)\n",
    "early_stopping = engine.EarlyStopping(tolerance=5, min_delta=10)"
   ]
  },
  {
   "cell_type": "code",
   "execution_count": 12,
   "metadata": {},
   "outputs": [
    {
     "data": {
      "application/vnd.jupyter.widget-view+json": {
       "model_id": "f35ea8a584e24d34a6fc9e02ce53856b",
       "version_major": 2,
       "version_minor": 0
      },
      "text/plain": [
       "  0%|          | 0/1 [00:00<?, ?it/s]"
      ]
     },
     "metadata": {},
     "output_type": "display_data"
    }
   ],
   "source": [
    "from utils import engine\n",
    "EPOCHS = 1\n",
    "\n",
    "results = engine.train(model=mobileNetV3,\n",
    "                      train_dataloader=train_dataloader,\n",
    "                      test_dataloader=test_dataloader,\n",
    "                      epochs=EPOCHS,\n",
    "                      optimizer=optimizer,\n",
    "                      loss_fn=loss_fn,\n",
    "                      scheduler = scheduler,\n",
    "                      device=device)"
   ]
  },
  {
   "cell_type": "markdown",
   "metadata": {},
   "source": [
    "# Saving Model"
   ]
  },
  {
   "cell_type": "code",
   "execution_count": null,
   "metadata": {},
   "outputs": [],
   "source": [
    "from utils.util import save_model\n",
    "save_model(model = mobileNetV3,\n",
    "                   target_dir = \"models\",\n",
    "                   model_name = f\"mobileNetV3_quickdraw_animals_epoch_{EPOCHS}.pth\")"
   ]
  }
 ],
 "metadata": {
  "kernelspec": {
   "display_name": "base",
   "language": "python",
   "name": "python3"
  },
  "language_info": {
   "codemirror_mode": {
    "name": "ipython",
    "version": 3
   },
   "file_extension": ".py",
   "mimetype": "text/x-python",
   "name": "python",
   "nbconvert_exporter": "python",
   "pygments_lexer": "ipython3",
   "version": "3.11.5"
  }
 },
 "nbformat": 4,
 "nbformat_minor": 2
}
